{
 "cells": [
  {
   "cell_type": "code",
   "execution_count": 2,
   "metadata": {},
   "outputs": [
    {
     "ename": "ImportError",
     "evalue": "dlopen(/Users/eshan23/miniconda3/envs/ev-transit/lib/python3.12/site-packages/pyproj/_network.cpython-312-darwin.so, 0x0002): Library not loaded: @rpath/libtiff.5.dylib\n  Referenced from: <1BF0DA3A-18BF-3035-BAF9-9B25E936A309> /Users/eshan23/miniconda3/envs/ev-transit/lib/libproj.25.9.3.1.dylib\n  Reason: tried: '/Users/eshan23/miniconda3/envs/ev-transit/lib/libtiff.5.dylib' (no such file), '/Users/eshan23/miniconda3/envs/ev-transit/lib/python3.12/site-packages/pyproj/../../../libtiff.5.dylib' (no such file), '/Users/eshan23/miniconda3/envs/ev-transit/lib/python3.12/site-packages/pyproj/../../../libtiff.5.dylib' (no such file), '/Users/eshan23/miniconda3/envs/ev-transit/bin/../lib/libtiff.5.dylib' (no such file), '/Users/eshan23/miniconda3/envs/ev-transit/bin/../lib/libtiff.5.dylib' (no such file), '/System/Volumes/Preboot/Cryptexes/OS@rpath/libtiff.5.dylib' (no such file), '/Users/eshan23/miniconda3/envs/ev-transit/lib/libtiff.5.dylib' (no such file), '/Users/eshan23/miniconda3/envs/ev-transit/lib/python3.12/site-packages/pyproj/../../../libtiff.5.dylib' (no such file), '/Users/eshan23/miniconda3/envs/ev-transit/lib/python3.12/site-packages/pyproj/../../../libtiff.5.dylib' (no such file), '/Users/eshan23/miniconda3/envs/ev-transit/bin/../lib/libtiff.5.dylib' (no such file), '/Users/eshan23/miniconda3/envs/ev-transit/bin/../lib/libtiff.5.dylib' (no such file), '/usr/local/lib/libtiff.5.dylib' (no such file), '/usr/lib/libtiff.5.dylib' (no such file, not in dyld cache)",
     "output_type": "error",
     "traceback": [
      "\u001b[0;31m---------------------------------------------------------------------------\u001b[0m",
      "\u001b[0;31mImportError\u001b[0m                               Traceback (most recent call last)",
      "Cell \u001b[0;32mIn[2], line 3\u001b[0m\n\u001b[1;32m      1\u001b[0m \u001b[39m# Installing the required libraries\u001b[39;00m\n\u001b[1;32m      2\u001b[0m \u001b[39mimport\u001b[39;00m \u001b[39mos\u001b[39;00m\n\u001b[0;32m----> 3\u001b[0m \u001b[39mimport\u001b[39;00m \u001b[39mgeopandas\u001b[39;00m \u001b[39mas\u001b[39;00m \u001b[39mgpd\u001b[39;00m\n\u001b[1;32m      4\u001b[0m \u001b[39mimport\u001b[39;00m \u001b[39mnumpy\u001b[39;00m \u001b[39mas\u001b[39;00m \u001b[39mnp\u001b[39;00m\n\u001b[1;32m      5\u001b[0m \u001b[39mimport\u001b[39;00m \u001b[39mrasterio\u001b[39;00m\n",
      "File \u001b[0;32m~/miniconda3/envs/ev-transit/lib/python3.12/site-packages/geopandas/__init__.py:3\u001b[0m\n\u001b[1;32m      1\u001b[0m \u001b[39mfrom\u001b[39;00m \u001b[39mgeopandas\u001b[39;00m\u001b[39m.\u001b[39;00m\u001b[39m_config\u001b[39;00m \u001b[39mimport\u001b[39;00m options\n\u001b[0;32m----> 3\u001b[0m \u001b[39mfrom\u001b[39;00m \u001b[39mgeopandas\u001b[39;00m\u001b[39m.\u001b[39;00m\u001b[39mgeoseries\u001b[39;00m \u001b[39mimport\u001b[39;00m GeoSeries\n\u001b[1;32m      4\u001b[0m \u001b[39mfrom\u001b[39;00m \u001b[39mgeopandas\u001b[39;00m\u001b[39m.\u001b[39;00m\u001b[39mgeodataframe\u001b[39;00m \u001b[39mimport\u001b[39;00m GeoDataFrame\n\u001b[1;32m      5\u001b[0m \u001b[39mfrom\u001b[39;00m \u001b[39mgeopandas\u001b[39;00m\u001b[39m.\u001b[39;00m\u001b[39marray\u001b[39;00m \u001b[39mimport\u001b[39;00m points_from_xy\n",
      "File \u001b[0;32m~/miniconda3/envs/ev-transit/lib/python3.12/site-packages/geopandas/geoseries.py:13\u001b[0m\n\u001b[1;32m     10\u001b[0m \u001b[39mfrom\u001b[39;00m \u001b[39mpandas\u001b[39;00m \u001b[39mimport\u001b[39;00m Series, MultiIndex\n\u001b[1;32m     11\u001b[0m \u001b[39mfrom\u001b[39;00m \u001b[39mpandas\u001b[39;00m\u001b[39m.\u001b[39;00m\u001b[39mcore\u001b[39;00m\u001b[39m.\u001b[39;00m\u001b[39minternals\u001b[39;00m \u001b[39mimport\u001b[39;00m SingleBlockManager\n\u001b[0;32m---> 13\u001b[0m \u001b[39mfrom\u001b[39;00m \u001b[39mpyproj\u001b[39;00m \u001b[39mimport\u001b[39;00m CRS\n\u001b[1;32m     14\u001b[0m \u001b[39mimport\u001b[39;00m \u001b[39mshapely\u001b[39;00m\n\u001b[1;32m     15\u001b[0m \u001b[39mfrom\u001b[39;00m \u001b[39mshapely\u001b[39;00m\u001b[39m.\u001b[39;00m\u001b[39mgeometry\u001b[39;00m\u001b[39m.\u001b[39;00m\u001b[39mbase\u001b[39;00m \u001b[39mimport\u001b[39;00m BaseGeometry\n",
      "File \u001b[0;32m~/miniconda3/envs/ev-transit/lib/python3.12/site-packages/pyproj/__init__.py:33\u001b[0m\n\u001b[1;32m      1\u001b[0m \u001b[39m\"\"\"\u001b[39;00m\n\u001b[1;32m      2\u001b[0m \u001b[39mPython interface to PROJ (https://proj.org),\u001b[39;00m\n\u001b[1;32m      3\u001b[0m \u001b[39mcartographic projections and coordinate transformations library.\u001b[39;00m\n\u001b[0;32m   (...)\u001b[0m\n\u001b[1;32m     29\u001b[0m \u001b[39mSOFTWARE OR THE USE OR OTHER DEALINGS IN THE SOFTWARE.\u001b[39;00m\n\u001b[1;32m     30\u001b[0m \u001b[39m\"\"\"\u001b[39;00m\n\u001b[1;32m     31\u001b[0m \u001b[39mimport\u001b[39;00m \u001b[39mwarnings\u001b[39;00m\n\u001b[0;32m---> 33\u001b[0m \u001b[39mimport\u001b[39;00m \u001b[39mpyproj\u001b[39;00m\u001b[39m.\u001b[39;00m\u001b[39mnetwork\u001b[39;00m\n\u001b[1;32m     34\u001b[0m \u001b[39mfrom\u001b[39;00m \u001b[39mpyproj\u001b[39;00m\u001b[39m.\u001b[39;00m\u001b[39m_datadir\u001b[39;00m \u001b[39mimport\u001b[39;00m (  \u001b[39m# noqa: F401 pylint: disable=unused-import\u001b[39;00m\n\u001b[1;32m     35\u001b[0m     _pyproj_global_context_initialize,\n\u001b[1;32m     36\u001b[0m     set_use_global_context,\n\u001b[1;32m     37\u001b[0m )\n\u001b[1;32m     38\u001b[0m \u001b[39mfrom\u001b[39;00m \u001b[39mpyproj\u001b[39;00m\u001b[39m.\u001b[39;00m\u001b[39m_show_versions\u001b[39;00m \u001b[39mimport\u001b[39;00m (  \u001b[39m# noqa: F401 pylint: disable=unused-import\u001b[39;00m\n\u001b[1;32m     39\u001b[0m     show_versions,\n\u001b[1;32m     40\u001b[0m )\n",
      "File \u001b[0;32m~/miniconda3/envs/ev-transit/lib/python3.12/site-packages/pyproj/network.py:10\u001b[0m\n\u001b[1;32m      6\u001b[0m \u001b[39mfrom\u001b[39;00m \u001b[39mtyping\u001b[39;00m \u001b[39mimport\u001b[39;00m Union\n\u001b[1;32m      8\u001b[0m \u001b[39mimport\u001b[39;00m \u001b[39mcertifi\u001b[39;00m\n\u001b[0;32m---> 10\u001b[0m \u001b[39mfrom\u001b[39;00m \u001b[39mpyproj\u001b[39;00m\u001b[39m.\u001b[39;00m\u001b[39m_network\u001b[39;00m \u001b[39mimport\u001b[39;00m (  \u001b[39m# noqa: F401 pylint: disable=unused-import\u001b[39;00m\n\u001b[1;32m     11\u001b[0m     _set_ca_bundle_path,\n\u001b[1;32m     12\u001b[0m     is_network_enabled,\n\u001b[1;32m     13\u001b[0m     set_network_enabled,\n\u001b[1;32m     14\u001b[0m )\n\u001b[1;32m     17\u001b[0m \u001b[39mdef\u001b[39;00m \u001b[39mset_ca_bundle_path\u001b[39m(ca_bundle_path: Union[Path, \u001b[39mstr\u001b[39m, \u001b[39mbool\u001b[39m, \u001b[39mNone\u001b[39;00m] \u001b[39m=\u001b[39m \u001b[39mNone\u001b[39;00m) \u001b[39m-\u001b[39m\u001b[39m>\u001b[39m \u001b[39mNone\u001b[39;00m:\n\u001b[1;32m     18\u001b[0m \u001b[39m    \u001b[39m\u001b[39m\"\"\"\u001b[39;00m\n\u001b[1;32m     19\u001b[0m \u001b[39m    .. versionadded:: 3.0.0\u001b[39;00m\n\u001b[1;32m     20\u001b[0m \n\u001b[0;32m   (...)\u001b[0m\n\u001b[1;32m     40\u001b[0m \u001b[39m        variables.\u001b[39;00m\n\u001b[1;32m     41\u001b[0m \u001b[39m    \"\"\"\u001b[39;00m\n",
      "\u001b[0;31mImportError\u001b[0m: dlopen(/Users/eshan23/miniconda3/envs/ev-transit/lib/python3.12/site-packages/pyproj/_network.cpython-312-darwin.so, 0x0002): Library not loaded: @rpath/libtiff.5.dylib\n  Referenced from: <1BF0DA3A-18BF-3035-BAF9-9B25E936A309> /Users/eshan23/miniconda3/envs/ev-transit/lib/libproj.25.9.3.1.dylib\n  Reason: tried: '/Users/eshan23/miniconda3/envs/ev-transit/lib/libtiff.5.dylib' (no such file), '/Users/eshan23/miniconda3/envs/ev-transit/lib/python3.12/site-packages/pyproj/../../../libtiff.5.dylib' (no such file), '/Users/eshan23/miniconda3/envs/ev-transit/lib/python3.12/site-packages/pyproj/../../../libtiff.5.dylib' (no such file), '/Users/eshan23/miniconda3/envs/ev-transit/bin/../lib/libtiff.5.dylib' (no such file), '/Users/eshan23/miniconda3/envs/ev-transit/bin/../lib/libtiff.5.dylib' (no such file), '/System/Volumes/Preboot/Cryptexes/OS@rpath/libtiff.5.dylib' (no such file), '/Users/eshan23/miniconda3/envs/ev-transit/lib/libtiff.5.dylib' (no such file), '/Users/eshan23/miniconda3/envs/ev-transit/lib/python3.12/site-packages/pyproj/../../../libtiff.5.dylib' (no such file), '/Users/eshan23/miniconda3/envs/ev-transit/lib/python3.12/site-packages/pyproj/../../../libtiff.5.dylib' (no such file), '/Users/eshan23/miniconda3/envs/ev-transit/bin/../lib/libtiff.5.dylib' (no such file), '/Users/eshan23/miniconda3/envs/ev-transit/bin/../lib/libtiff.5.dylib' (no such file), '/usr/local/lib/libtiff.5.dylib' (no such file), '/usr/lib/libtiff.5.dylib' (no such file, not in dyld cache)"
     ]
    }
   ],
   "source": [
    "# Installing the required libraries\n",
    "import os\n",
    "import geopandas as gpd\n",
    "import numpy as np\n",
    "import rasterio\n",
    "from rasterio.features import rasterize\n",
    "from shapely.geometry import box\n",
    "import pandas as pd"
   ]
  },
  {
   "cell_type": "code",
   "execution_count": null,
   "metadata": {},
   "outputs": [],
   "source": []
  }
 ],
 "metadata": {
  "kernelspec": {
   "display_name": "ev-transit",
   "language": "python",
   "name": "python3"
  },
  "language_info": {
   "codemirror_mode": {
    "name": "ipython",
    "version": 3
   },
   "file_extension": ".py",
   "mimetype": "text/x-python",
   "name": "python",
   "nbconvert_exporter": "python",
   "pygments_lexer": "ipython3",
   "version": "3.12.2"
  },
  "orig_nbformat": 4
 },
 "nbformat": 4,
 "nbformat_minor": 2
}
