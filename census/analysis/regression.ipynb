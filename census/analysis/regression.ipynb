{
 "cells": [
  {
   "attachments": {},
   "cell_type": "markdown",
   "metadata": {},
   "source": [
    "In this file, we're exploring regression analysis to assess relationship between EV stations in a zone and:\n",
    "1. primary road density (sum of primary roads/area of zone) for a taxizone\n",
    "2. taxi dropoffs at 4 AM (to signify end of day)\n",
    "3. taxi_pickups at \n",
    "\n",
    "\n",
    "**Author:** Eshan "
   ]
  },
  {
   "cell_type": "code",
   "execution_count": null,
   "metadata": {},
   "outputs": [],
   "source": []
  }
 ],
 "metadata": {
  "language_info": {
   "name": "python"
  },
  "orig_nbformat": 4
 },
 "nbformat": 4,
 "nbformat_minor": 2
}
