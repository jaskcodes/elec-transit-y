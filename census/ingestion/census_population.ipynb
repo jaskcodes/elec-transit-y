{
 "cells": [
  {
   "cell_type": "code",
   "execution_count": 1,
   "metadata": {},
   "outputs": [],
   "source": [
    "import requests\n",
    "import json\n",
    "import pandas as pd"
   ]
  },
  {
   "cell_type": "code",
   "execution_count": 3,
   "metadata": {},
   "outputs": [
    {
     "name": "stdout",
     "output_type": "stream",
     "text": [
      "Data saved to 'ny_census_tract_population.csv'\n"
     ]
    }
   ],
   "source": [
    "# Get the data from the API\n",
    "api_key = 'e59a33fb62c5327b142e0d97c28babd1afe99f03'\n",
    "\n",
    "# Define the URL for the API request\n",
    "url = f'https://api.census.gov/data/2020/dec/pl?get=P1_001N,NAME&for=tract:*&in=state:36&key={api_key}'\n",
    "\n",
    "# Make the API request\n",
    "response = requests.get(url)\n",
    "\n",
    "# Check if the request was successful\n",
    "if response.status_code == 200:\n",
    "    data = response.json()\n",
    "    # Convert to DataFrame\n",
    "    df = pd.DataFrame(data[1:], columns=data[0])\n",
    "    # Save to CSV\n",
    "    df.to_csv('ny_census_tract_population.csv', index=False)\n",
    "    print(\"Data saved to 'ny_census_tract_population.csv'\")\n",
    "else:\n",
    "    print(f\"Error: {response.status_code}\")"
   ]
  }
 ],
 "metadata": {
  "kernelspec": {
   "display_name": "ev-transit",
   "language": "python",
   "name": "python3"
  },
  "language_info": {
   "codemirror_mode": {
    "name": "ipython",
    "version": 3
   },
   "file_extension": ".py",
   "mimetype": "text/x-python",
   "name": "python",
   "nbconvert_exporter": "python",
   "pygments_lexer": "ipython3",
   "version": "3.12.2"
  },
  "orig_nbformat": 4
 },
 "nbformat": 4,
 "nbformat_minor": 2
}
