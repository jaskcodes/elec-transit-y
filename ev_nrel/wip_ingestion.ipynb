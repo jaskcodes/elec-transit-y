{
 "cells": [
  {
   "cell_type": "code",
   "execution_count": 1,
   "metadata": {},
   "outputs": [],
   "source": [
    "import pandas as pd\n",
    "import requests\n",
    "import boto3\n",
    "import time\n",
    "import json\n",
    "import pyarrow.parquet as pq\n",
    "from concurrent.futures import ThreadPoolExecutor"
   ]
  },
  {
   "cell_type": "code",
   "execution_count": 2,
   "metadata": {},
   "outputs": [
    {
     "name": "stdout",
     "output_type": "stream",
     "text": [
      "S3 bucket exists\n"
     ]
    }
   ],
   "source": [
    "# Initialize the clients for S3 and DynamoDB\n",
    "from botocore.client import Config\n",
    "s3 = boto3.client('s3', region_name= \"us-east-1\",config=Config(signature_version='s3v4'))\n",
    "s3_resource = boto3.resource('s3')\n",
    "sfn = boto3.client('stepfunctions')\n",
    "\n",
    "# Define S3 bucket name for project\n",
    "bucket_name = 'final-project-nrel-stations'\n",
    "\n",
    "# define folder name inside s3 bucket\n",
    "folder_name = 'station-parquet-files'\n",
    "\n",
    "# Check if s3 bucket exists; if not, create \n",
    "if 'Buckets' in s3.list_buckets():\n",
    "    for bucket in s3.list_buckets()['Buckets']:\n",
    "        if bucket['Name'] == 'final-project-nrel-stations':\n",
    "            print('S3 bucket exists')\n",
    "            break\n",
    "    else:\n",
    "        s3.create_bucket(Bucket=bucket_name)"
   ]
  },
  {
   "cell_type": "code",
   "execution_count": 3,
   "metadata": {},
   "outputs": [],
   "source": [
    "# Define lambda function\n",
    "def lambda_handler(event,context):\n",
    "\n",
    "    # Define start time\n",
    "    start_time = time.time()\n",
    "\n",
    "    # Extract relevant attributes from the event\n",
    "    api_key = event['api_key']\n",
    "    state=event['state']\n",
    "\n",
    "    url = f\"https://developer.nrel.gov/api/alt-fuel-stations/v1.json?api_key={api_key}&state={state}\"\n",
    "    response = requests.get(url)\n",
    "    data = response.json()\n",
    "    \n",
    "    # Count the number of fuel stations returned\n",
    "    print(f\"Number of fuel stations in {state}: {data['total_results']}\")\n",
    "    \n",
    "    # Extract the list of fuel stations\n",
    "    stations = data['fuel_stations']\n",
    "    stations_df = pd.DataFrame(stations)\n",
    "\n",
    "    # Upload stations dataframe to S3 bucket as parquet with state initials\n",
    "    try:\n",
    "        stations_df.to_parquet(f\"/tmp/{state}_stations.parquet\")\n",
    "        s3.upload_file(f\"/tmp/{state}_stations.parquet\", bucket_name, f\"{folder_name}/{state}_stations.parquet\")\n",
    "        print(f'parquet file uploaded for state {state} to S3')\n",
    "        \n",
    "        # Define end time\n",
    "        end_time = time.time()\n",
    "        \n",
    "        # Construct a success response\n",
    "        return {\n",
    "            \"statusCode\": 200,\n",
    "            \"body\": json.dumps({\n",
    "                \"message\": f\"Success! Parquet file uploaded for state {state} to S3\",\n",
    "                \"processingTime\": f\"{end_time - start_time:.2f} seconds\"\n",
    "            })\n",
    "        }\n",
    "    except Exception as e:\n",
    "        print(e)\n",
    "        print('Error uploading file to S3')\n",
    "        return {\n",
    "            \"statusCode\": 500,\n",
    "            \"body\": json.dumps({\n",
    "                \"message\": \"Failed to upload parquet file to S3\",\n",
    "                \"error\": str(e)\n",
    "            })\n",
    "        }"
   ]
  },
  {
   "cell_type": "code",
   "execution_count": 9,
   "metadata": {},
   "outputs": [
    {
     "name": "stdout",
     "output_type": "stream",
     "text": [
      "Number of fuel stations in IL: 2373\n",
      "parquet file uploaded for state IL to S3\n",
      "Time taken to get EV data for IL: 1.9844880104064941 seconds\n"
     ]
    }
   ],
   "source": [
    "# Testing lambda locally\n",
    "api_key = 'uV8N2wWyuRXAFp1hJLIxVlHiq5pBOs1injQxbnjo'\n",
    "state = 'IL'\n",
    "event = {'api_key': api_key, 'state': state}\n",
    "lambda_handler(event, None)"
   ]
  },
  {
   "cell_type": "code",
   "execution_count": null,
   "metadata": {},
   "outputs": [],
   "source": [
    "# Defining step function to invoke lambda concurrently for all states\n"
   ]
  }
 ],
 "metadata": {
  "kernelspec": {
   "display_name": "ev-transit",
   "language": "python",
   "name": "python3"
  },
  "language_info": {
   "codemirror_mode": {
    "name": "ipython",
    "version": 3
   },
   "file_extension": ".py",
   "mimetype": "text/x-python",
   "name": "python",
   "nbconvert_exporter": "python",
   "pygments_lexer": "ipython3",
   "version": "3.12.2"
  },
  "orig_nbformat": 4
 },
 "nbformat": 4,
 "nbformat_minor": 2
}
