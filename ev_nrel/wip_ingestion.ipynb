{
 "cells": [
  {
   "cell_type": "code",
   "execution_count": 18,
   "metadata": {},
   "outputs": [],
   "source": [
    "import pandas as pd\n",
    "import requests\n",
    "import boto3\n",
    "import time\n",
    "import s3fs\n",
    "from concurrent.futures import ThreadPoolExecutor"
   ]
  },
  {
   "cell_type": "code",
   "execution_count": 5,
   "metadata": {},
   "outputs": [
    {
     "data": {
      "text/plain": [
       "{'ResponseMetadata': {'RequestId': 'CHCBZ4B1VQZNBMS8',\n",
       "  'HostId': 'WM8ZaMgAPDm0qS5DSCE7NJsvOq5xnj8Y2Cn9CgfMl8CcZOLo8XjeFckGqMqXAy0neJhTgys+wHw=',\n",
       "  'HTTPStatusCode': 200,\n",
       "  'HTTPHeaders': {'x-amz-id-2': 'WM8ZaMgAPDm0qS5DSCE7NJsvOq5xnj8Y2Cn9CgfMl8CcZOLo8XjeFckGqMqXAy0neJhTgys+wHw=',\n",
       "   'x-amz-request-id': 'CHCBZ4B1VQZNBMS8',\n",
       "   'date': 'Mon, 06 May 2024 03:21:29 GMT',\n",
       "   'location': '/final-project-nrel-stations',\n",
       "   'server': 'AmazonS3',\n",
       "   'content-length': '0'},\n",
       "  'RetryAttempts': 0},\n",
       " 'Location': '/final-project-nrel-stations'}"
      ]
     },
     "execution_count": 5,
     "metadata": {},
     "output_type": "execute_result"
    }
   ],
   "source": [
    "# Initialize the clients for S3 and DynamoDB\n",
    "from botocore.client import Config\n",
    "s3 = boto3.client('s3', region_name= \"us-east-1\",config=Config(signature_version='s3v4'))\n",
    "s3_resource = boto3.resource('s3')\n",
    "\n",
    "# Create s3 bucket for Assignment-5\n",
    "bucket_name = 'final-project-nrel-stations'\n",
    "s3.create_bucket(Bucket=bucket_name)"
   ]
  },
  {
   "cell_type": "code",
   "execution_count": 20,
   "metadata": {},
   "outputs": [],
   "source": [
    "# define folder name inside s3 bucket\n",
    "folder_name = 'station-parquet-files'"
   ]
  },
  {
   "cell_type": "code",
   "execution_count": 21,
   "metadata": {},
   "outputs": [],
   "source": [
    "def lambda_handler(event,context):\n",
    "\n",
    "    # Define start time\n",
    "    stary_time = time.time()\n",
    "\n",
    "    # Extract relevant attributes from the event\n",
    "    api_key = event['api_key']\n",
    "    state=event['state']\n",
    "\n",
    "    url = f\"https://developer.nrel.gov/api/alt-fuel-stations/v1.json?api_key={api_key}&state={state}\"\n",
    "    response = requests.get(url)\n",
    "    data = response.json()\n",
    "    \n",
    "    # Count the number of fuel stations returned\n",
    "    print(f\"Number of fuel stations in {state}: {data['total_results']}\")\n",
    "    \n",
    "    # Extract the list of fuel stations\n",
    "    stations = data['fuel_stations']\n",
    "    stations_df = pd.DataFrame(stations)\n",
    "\n",
    "    # Upload stations dataframe to S3 bucket as parquet with state initials\n",
    "    try:\n",
    "        #stations_df.to_csv('/tmp/stations.csv', index=False)\n",
    "        #s3.upload_file('/tmp/stations.csv', bucket_name, f'fuel_stations_{state}.csv')\n",
    "        \n",
    "        fs = s3fs.S3FileSystem()\n",
    "        with fs.open(f's3://{bucket_name}/{folder_name}/fuel_stations_{state}.parquet', 'wb') as f:\n",
    "            stations_df.to_parquet(f, index=False)\n",
    "        print(f'parquet file uploaded for state {state} to S3')\n",
    "    except Exception as e:\n",
    "        print(e)\n",
    "        print('Error uploading file to S3')    \n",
    "\n",
    "    # Define end time\n",
    "    end_time = time.time()\n",
    "\n",
    "    # Print the time taken to process the data\n",
    "    print(f\"Time taken to get EV data for {state}: {end_time - start_time} seconds\")"
   ]
  },
  {
   "cell_type": "code",
   "execution_count": 14,
   "metadata": {},
   "outputs": [
    {
     "name": "stdout",
     "output_type": "stream",
     "text": [
      "Number of fuel stations in CA: 20052\n",
      "File uploaded for state CAto S3\n"
     ]
    }
   ],
   "source": [
    "# Testing lambda locally\n",
    "api_key = 'uV8N2wWyuRXAFp1hJLIxVlHiq5pBOs1injQxbnjo'\n",
    "state = 'CA'\n",
    "event = {'api_key': api_key, 'state': state}\n",
    "lambda_handler(event, None)"
   ]
  }
 ],
 "metadata": {
  "kernelspec": {
   "display_name": "ev-transit",
   "language": "python",
   "name": "python3"
  },
  "language_info": {
   "codemirror_mode": {
    "name": "ipython",
    "version": 3
   },
   "file_extension": ".py",
   "mimetype": "text/x-python",
   "name": "python",
   "nbconvert_exporter": "python",
   "pygments_lexer": "ipython3",
   "version": "3.12.3"
  },
  "orig_nbformat": 4
 },
 "nbformat": 4,
 "nbformat_minor": 2
}
